{
 "cells": [
  {
   "cell_type": "code",
   "execution_count": 1,
   "id": "2f4a7e4d-d7ca-4165-9c99-7cf949888d85",
   "metadata": {
    "tags": []
   },
   "outputs": [
    {
     "ename": "ModuleNotFoundError",
     "evalue": "No module named 'utils'",
     "output_type": "error",
     "traceback": [
      "\u001b[1;31m---------------------------------------------------------------------------\u001b[0m",
      "\u001b[1;31mModuleNotFoundError\u001b[0m                       Traceback (most recent call last)",
      "Cell \u001b[1;32mIn[1], line 4\u001b[0m\n\u001b[0;32m      2\u001b[0m \u001b[38;5;28;01mimport\u001b[39;00m \u001b[38;5;21;01mnumpy\u001b[39;00m \u001b[38;5;28;01mas\u001b[39;00m \u001b[38;5;21;01mnp\u001b[39;00m\n\u001b[0;32m      3\u001b[0m \u001b[38;5;28;01mfrom\u001b[39;00m \u001b[38;5;21;01mdataset\u001b[39;00m \u001b[38;5;28;01mimport\u001b[39;00m pyg_dataset, pyg_to_dgl\n\u001b[1;32m----> 4\u001b[0m \u001b[38;5;28;01mfrom\u001b[39;00m \u001b[38;5;21;01mmodels\u001b[39;00m\u001b[38;5;21;01m.\u001b[39;00m\u001b[38;5;21;01mbaseline_model\u001b[39;00m \u001b[38;5;28;01mimport\u001b[39;00m Baseline\n\u001b[0;32m      6\u001b[0m torch\u001b[38;5;241m.\u001b[39mmanual_seed(\u001b[38;5;241m21\u001b[39m)\n\u001b[0;32m      7\u001b[0m np\u001b[38;5;241m.\u001b[39mrandom\u001b[38;5;241m.\u001b[39mseed(\u001b[38;5;241m2\u001b[39m)\n",
      "File \u001b[1;32m~\\Downloads\\Suspicious3\\Mul-Graph-Fusion-master\\GNNclassifiers\\models\\baseline_model.py:10\u001b[0m\n\u001b[0;32m      8\u001b[0m \u001b[38;5;28;01mimport\u001b[39;00m \u001b[38;5;21;01mtorch\u001b[39;00m\u001b[38;5;21;01m.\u001b[39;00m\u001b[38;5;21;01mnn\u001b[39;00m\u001b[38;5;21;01m.\u001b[39;00m\u001b[38;5;21;01mfunctional\u001b[39;00m \u001b[38;5;28;01mas\u001b[39;00m \u001b[38;5;21;01mF\u001b[39;00m\n\u001b[0;32m      9\u001b[0m \u001b[38;5;28;01mimport\u001b[39;00m \u001b[38;5;21;01mdgl\u001b[39;00m\u001b[38;5;21;01m.\u001b[39;00m\u001b[38;5;21;01mfunction\u001b[39;00m \u001b[38;5;28;01mas\u001b[39;00m \u001b[38;5;21;01mfn\u001b[39;00m\n\u001b[1;32m---> 10\u001b[0m \u001b[38;5;28;01mfrom\u001b[39;00m \u001b[38;5;21;01mutils\u001b[39;00m \u001b[38;5;28;01mimport\u001b[39;00m \u001b[38;5;241m*\u001b[39m\n\u001b[0;32m     11\u001b[0m \u001b[38;5;28;01mfrom\u001b[39;00m \u001b[38;5;21;01mdataset\u001b[39;00m \u001b[38;5;28;01mimport\u001b[39;00m pyg_to_dgl\n\u001b[0;32m     12\u001b[0m \u001b[38;5;28;01mfrom\u001b[39;00m \u001b[38;5;21;01mearly_stop\u001b[39;00m \u001b[38;5;28;01mimport\u001b[39;00m EarlyStopping\n",
      "\u001b[1;31mModuleNotFoundError\u001b[0m: No module named 'utils'"
     ]
    }
   ],
   "source": [
    "import torch\n",
    "import numpy as np\n",
    "from dataset import pyg_dataset, pyg_to_dgl\n",
    "from models.baseline_model import Baseline\n",
    "\n",
    "torch.manual_seed(21)\n",
    "np.random.seed(2)\n",
    "\n",
    "device = torch.device(\"cuda\")\n",
    "# model_list = [\"iforest\",\"lof\", \"hbos\", \"oc-svm\", \"bwgnn\", \"gin\", \"gat\", \"gcn\"]\n",
    "model_list = [\"bwgnn\", \"gin\", \"gat\", \"gcn\"]\n",
    "# model_list = [\"bwgnn\"]\n",
    "model_list = [\"sage\"]\n",
    "# data_list = [\"amazon_computer\",\"cora\",\"citeseer\",\"amazon_photo\",\"reddit\",\"weibo\",\"books\"]\n",
    "#data_list = [\"amazon_photo\"]\n",
    "data_list = [\"cora\",\"citeseer\",\"amazon_computer\",\"amazon_photo\"]\n",
    "# data_list = [\"pubmed\"]\n",
    "error=[0.3,0.4,0.5,0.6,0.7,0.8,0.9,1.0]\n",
    "#error=[0.8]\n",
    "run_times = range(10)\n",
    "hid_dim = 64\n",
    "number_class = 2\n",
    "\n",
    "for data_name in data_list:\n",
    "\tif data_name in [\"pubmed\",\"amazon_computer\",\"citeseer\",\"amazon_photo\",\"weibo\",\"books\",\"reddit\",\"flickr\",\"cora\"]:\n",
    "\t\tfor model_name in model_list:\n",
    "\t\t\tfor e in error:\n",
    "\t\t\t\ttest_auc_list = []\n",
    "\t\t\t\tbest_auc_list = []\n",
    "\t\t\t\tfor run in run_times:\n",
    "\t\t\t\t\tdata = pyg_dataset(dataset_name=data_name, dataset_spilt=[0.05,0.05,0.89], anomaly_type=\"min\",error=e).dataset if model_name in [\"iforest\",\"lof\", \"hbos\", \"oc-svm\"] else pyg_dataset(dataset_name=data_name, dataset_spilt=[0.05,0.05,0.89], anomaly_type=\"min\",error=e).dataset.to(device)\n",
    "\t\t\t\t\tmodel = Baseline(model_name, data.x.shape[1], hid_dim, number_class, data, verbose=0) if model_name in [\"iforest\",\"lof\", \"hbos\", \"oc-svm\"] else\\\n",
    "\t\t\t\t\t\tBaseline(model_name, data.x.shape[1], hid_dim, number_class, data, verbose=0).to(device)\n",
    "\t\t\t\t\ttest_auc,best_auc =\t model.fit()\n",
    "\t\t\t\t\tbest_auc_list.append(best_auc)\n",
    "\t\t\t\t\ttest_auc_list.append(test_auc)\n",
    "\t\t\t\tprint (f\"Baseline {model_name}; dataset {data_name}; anomaly type min; test auc mean {np.array(test_auc_list).mean()}; test auc std {np.array(test_auc_list).std()}; best val auc mean {np.array(best_auc_list).mean()}\")\n",
    "\t\t\t\trecord_string = f\"Baseline {model_name}; dataset {data_name}; error {e};anomaly type min; test auc mean ${round(np.array(test_auc_list).mean()*100,1)}.pm.{round(np.array(test_auc_list).std()*100,1)}$\\n\"\n",
    "\t\t\t\twith open(\"result/baseline_for_all_dataset2.csv\",'a') as f:\n",
    "\t\t\t\t\tf.write(record_string)\n",
    "\t\t\t\t\t\n",
    "\tif data_name in [\"pubmed\",\"amazon_computer\",\"amazon_photo\",\"citeseer\",\"cora\"]:\n",
    "\t\tfor model_name in model_list:\n",
    "\t\t\tfor e in error:\n",
    "\t\t\t\ttest_auc_list = []\n",
    "\t\t\t\tbest_auc_list = []\n",
    "\t\t\t\tfor run in run_times:\n",
    "\t\t\t\t\tdata = pyg_dataset(dataset_name=data_name, dataset_spilt=[0.05,0.05,0.89], anomaly_type=\"syn\",error=e).dataset if model_name in [\"iforest\",\"lof\", \"hbos\", \"oc-svm\"] else pyg_dataset(dataset_name=data_name, dataset_spilt=[0.05,0.05,0.89], anomaly_type=\"syn\",error=e).dataset.to(device)\n",
    "\t\t\t\t\tmodel = Baseline(model_name, data.x.shape[1], hid_dim, number_class, data, verbose=0) if model_name in [\"iforest\",\"lof\", \"hbos\", \"oc-svm\"] else\\\n",
    "\t\t\t\t\t\tBaseline(model_name, data.x.shape[1], hid_dim, number_class, data, verbose=0).to(device)\n",
    "\t\t\t\t\ttest_auc,best_auc =\t model.fit()\n",
    "\t\t\t\t\tbest_auc_list.append(best_auc)\n",
    "\t\t\t\t\ttest_auc_list.append(test_auc)\n",
    "\t\t\t\tprint (f\"Baseline {model_name}; dataset {data_name}; anomaly type syn; test auc mean {np.array(test_auc_list).mean()}; test auc std {np.array(test_auc_list).std()}; best val auc mean {np.array(best_auc_list).mean()}\")\n",
    "\t\t\t\trecord_string = f\"Baseline {model_name}; dataset {data_name}; error {e};anomaly type syn; test auc mean ${round(np.array(test_auc_list).mean()*100,1)}.pm.{round(np.array(test_auc_list).std()*100,1)}$\\n\"\n",
    "\t\t\t\twith open(\"result/baseline_for_all_dataset2.csv\",'a') as f:\n",
    "\t\t\t\t\tf.write(record_string) \n"
   ]
  },
  {
   "cell_type": "code",
   "execution_count": null,
   "id": "8393c2ac-fb53-4387-9dbb-fd256288b0d9",
   "metadata": {},
   "outputs": [],
   "source": []
  }
 ],
 "metadata": {
  "kernelspec": {
   "display_name": "Python 3 (ipykernel)",
   "language": "python",
   "name": "python3"
  },
  "language_info": {
   "codemirror_mode": {
    "name": "ipython",
    "version": 3
   },
   "file_extension": ".py",
   "mimetype": "text/x-python",
   "name": "python",
   "nbconvert_exporter": "python",
   "pygments_lexer": "ipython3",
   "version": "3.11.5"
  }
 },
 "nbformat": 4,
 "nbformat_minor": 5
}
